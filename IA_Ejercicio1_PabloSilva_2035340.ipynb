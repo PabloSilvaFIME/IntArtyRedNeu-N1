{
  "nbformat": 4,
  "nbformat_minor": 0,
  "metadata": {
    "colab": {
      "provenance": []
    },
    "kernelspec": {
      "name": "python3",
      "display_name": "Python 3"
    },
    "language_info": {
      "name": "python"
    }
  },
  "cells": [
    {
      "cell_type": "markdown",
      "source": [
        "# **A2: Ejercicios en Python 1 // Pablo Guadalupe Silva Ibarra // 2035340 // Hora clase: N1**"
      ],
      "metadata": {
        "id": "8oYdDV6sw6Qt"
      }
    },
    {
      "cell_type": "markdown",
      "source": [
        "Ejercicio 1: Escribe un programa que le pida al usuario por su nombre y ue lo salude con su nombre, excepto si se llama \"Ana\", \"Juan\", y \"Pedro\"."
      ],
      "metadata": {
        "id": "XNCbD1Wu2Cuo"
      }
    },
    {
      "cell_type": "code",
      "source": [
        "a = \"Ana\"\n",
        "b = \"Juan\"\n",
        "c = \"Pedro\"\n",
        "\n",
        "message = input(\"Hola, ¿como te llamas?: \")\n",
        "if message == a or message == b or message == c:\n",
        "  print(\"Me disculpo, no puedo decir tu nombre\")\n",
        "else: \n",
        "  print(\"Hola\" + \" \" + message)"
      ],
      "metadata": {
        "colab": {
          "base_uri": "https://localhost:8080/"
        },
        "id": "PIq-SRYXxY1M",
        "outputId": "4b1cd57d-df48-4c65-b08d-9e84b9efb1ad"
      },
      "execution_count": 16,
      "outputs": [
        {
          "output_type": "stream",
          "name": "stdout",
          "text": [
            "Hola, ¿como te llamas?: Pablo\n",
            "Hola Pablo\n"
          ]
        }
      ]
    },
    {
      "cell_type": "code",
      "source": [
        "a = \"Ana\"\n",
        "b = \"Juan\"\n",
        "c = \"Pedro\"\n",
        "\n",
        "message = input(\"Hola, ¿como te llamas?: \")\n",
        "if message == a or message == b or message == c:\n",
        "  print(\"Me disculpo, no puedo decir tu nombre\")\n",
        "else: \n",
        "  print(\"Hola\" + \" \" + message)"
      ],
      "metadata": {
        "colab": {
          "base_uri": "https://localhost:8080/"
        },
        "id": "pisSqtxw6P9t",
        "outputId": "b5527122-9234-438c-e80f-164c281dd1e3"
      },
      "execution_count": 59,
      "outputs": [
        {
          "output_type": "stream",
          "name": "stdout",
          "text": [
            "Hola, ¿como te llamas?: Juan\n",
            "Me disculpo, no puedo decir tu nombre\n"
          ]
        }
      ]
    },
    {
      "cell_type": "markdown",
      "source": [
        "Ejercicio 2: Escribe una función que regrese el último elemento de una lista y que revierta el orden de la lista e imprima la lista revertida."
      ],
      "metadata": {
        "id": "HFlwZIpI6y52"
      }
    },
    {
      "cell_type": "code",
      "source": [
        "List = [\"paper\", \"pencil\", \"eraser\"]\n",
        "print(List[-1])\n",
        "List2 = [\"eraser\", \"pencil\", \"paper\"]\n",
        "print(List2)"
      ],
      "metadata": {
        "colab": {
          "base_uri": "https://localhost:8080/"
        },
        "id": "tBm1Kmo46_yI",
        "outputId": "10eb45dd-f0d7-4b06-f11c-c20e7c060c79"
      },
      "execution_count": 66,
      "outputs": [
        {
          "output_type": "stream",
          "name": "stdout",
          "text": [
            "eraser\n",
            "['eraser', 'pencil', 'paper']\n"
          ]
        }
      ]
    },
    {
      "cell_type": "markdown",
      "source": [
        "\n",
        "Ejercicio 3: Escribe una función que toma una lista de strings y los imprima línea por línea en un marco rectangular. Por ejemplo, la lista [\"Hola,\"a\",\"todos\",\"sto\",\"es\",\"un\",\"marco\"] se imprime:\n",
        "\n",
        "```\n",
        "Hola\n",
        "a\n",
        "todos\n",
        "esto\n",
        "es\n",
        "un\n",
        "marco\n",
        "```\n",
        "\n",
        "\n"
      ],
      "metadata": {
        "id": "W0czbldv_aEk"
      }
    },
    {
      "cell_type": "code",
      "source": [
        "Pablo = [\"Yo\", \"soy\", \"un\", \"ingeniero\", \"y\", \"no\", \"se\", \"programar\"]\n",
        "for x in Pablo:\n",
        "  print(x) "
      ],
      "metadata": {
        "colab": {
          "base_uri": "https://localhost:8080/"
        },
        "id": "-mn3kX1H_ZiJ",
        "outputId": "1d33f56d-1ab7-427d-ab92-e5ac4ac6db62"
      },
      "execution_count": 51,
      "outputs": [
        {
          "output_type": "stream",
          "name": "stdout",
          "text": [
            "Yo\n",
            "soy\n",
            "un\n",
            "ingeniero\n",
            "y\n",
            "no\n",
            "se\n",
            "programar\n"
          ]
        }
      ]
    }
  ]
}